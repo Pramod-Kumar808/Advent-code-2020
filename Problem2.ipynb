{
 "cells": [
  {
   "cell_type": "markdown",
   "source": [
    "Take a file of password information.  Parse it to see if a certain number of a certain letter is in the password.  How many password match the rule?  That's part one.\r\n",
    "\r\n",
    "Do the same thing for part two, but figure out instead if one of two particular characters has the required letter."
   ],
   "metadata": {}
  },
  {
   "cell_type": "markdown",
   "source": [
    "# Parser and Strategy"
   ],
   "metadata": {}
  },
  {
   "cell_type": "markdown",
   "source": [
    "## Task 1"
   ],
   "metadata": {}
  },
  {
   "cell_type": "code",
   "execution_count": 27,
   "source": [
    "repeat_total = 0\r\n",
    "with open(\"Data\\data2.txt\") as file:\r\n",
    "    for lines in file:\r\n",
    "        line = lines.split(\" \")\r\n",
    "        cluster1 = line[0]\r\n",
    "#         print(cluster1)\r\n",
    "        initial = int(cluster1.split(\"-\")[0])                #For the range initial value\r\n",
    "        final = int(cluster1.split(\"-\")[1])                  #For the range final value\r\n",
    "        # print(initial, final)\r\n",
    "        cluster2 = line[1]\r\n",
    "        param = cluster2[0]                             #This is the alphabet that repeats \r\n",
    "        # print(param)\r\n",
    "        target = line[2]\r\n",
    "#         print(target)\r\n",
    "        check = 0\r\n",
    "        for letter in target:\r\n",
    "            if letter == param:\r\n",
    "                check += 1\r\n",
    "        if check >= initial and check <= final:\r\n",
    "            repeat_total += 1\r\n",
    "            \r\n",
    "print(repeat_total)"
   ],
   "outputs": [
    {
     "output_type": "stream",
     "name": "stdout",
     "text": [
      "418\n"
     ]
    }
   ],
   "metadata": {}
  },
  {
   "cell_type": "markdown",
   "source": [
    "## Task 2"
   ],
   "metadata": {}
  },
  {
   "cell_type": "code",
   "execution_count": 2,
   "source": [
    "repeat_total = 0\r\n",
    "with open(\"Data\\data2.txt\") as file:\r\n",
    "    for lines in file:\r\n",
    "        line = lines.split(\" \")\r\n",
    "        cluster1 = line[0]\r\n",
    "        initial = int(cluster1.split(\"-\")[0])                #For the range initial value\r\n",
    "        final = int(cluster1.split(\"-\")[1])                  #For the range final value\r\n",
    "        cluster2 = line[1]\r\n",
    "        param = cluster2[0]                             #This is the alphabet that repeats \r\n",
    "        target = line[2]\r\n",
    "        start = target[initial - 1]\r\n",
    "#         print(\"t\",target, \"i\",start)\r\n",
    "#         print(start)\r\n",
    "        end = target[final - 1]\r\n",
    "#         print(\"t\",target, \"i\",end)\r\n",
    "#         print(end)\r\n",
    "        if (param == start) ^ (param == end):\r\n",
    "            repeat_total += 1\r\n",
    "print(repeat_total)"
   ],
   "outputs": [
    {
     "output_type": "stream",
     "name": "stdout",
     "text": [
      "616\n"
     ]
    }
   ],
   "metadata": {}
  },
  {
   "cell_type": "code",
   "execution_count": null,
   "source": [],
   "outputs": [],
   "metadata": {}
  }
 ],
 "metadata": {
  "kernelspec": {
   "name": "python3",
   "display_name": "Python 3.6.10 64-bit ('tenpy': conda)"
  },
  "language_info": {
   "codemirror_mode": {
    "name": "ipython",
    "version": 3
   },
   "file_extension": ".py",
   "mimetype": "text/x-python",
   "name": "python",
   "nbconvert_exporter": "python",
   "pygments_lexer": "ipython3",
   "version": "3.6.10"
  },
  "toc": {
   "base_numbering": 1,
   "nav_menu": {},
   "number_sections": true,
   "sideBar": true,
   "skip_h1_title": false,
   "title_cell": "Table of Contents",
   "title_sidebar": "Contents",
   "toc_cell": false,
   "toc_position": {},
   "toc_section_display": true,
   "toc_window_display": false
  },
  "interpreter": {
   "hash": "798f5b5431e37c71aaf89733b493b653dbf725e4fef1afdf5d2e121c202eac10"
  }
 },
 "nbformat": 4,
 "nbformat_minor": 5
}