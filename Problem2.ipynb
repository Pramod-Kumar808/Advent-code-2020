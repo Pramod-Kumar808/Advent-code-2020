{
 "cells": [
  {
   "cell_type": "markdown",
   "id": "billion-hostel",
   "metadata": {},
   "source": [
    "# Parser and Strategy"
   ]
  },
  {
   "cell_type": "markdown",
   "id": "comic-guide",
   "metadata": {},
   "source": [
    "## Task 1"
   ]
  },
  {
   "cell_type": "code",
   "execution_count": 48,
   "id": "recognized-diploma",
   "metadata": {},
   "outputs": [
    {
     "name": "stdout",
     "output_type": "stream",
     "text": [
      "418\n"
     ]
    }
   ],
   "source": [
    "repeat_total = 0\n",
    "with open(\"C:\\\\Users\\\\npram\\\\Desktop\\\\Github\\\\Advent-code-2020\\\\inputfiles\\\\data2.txt\") as file:\n",
    "    for lines in file:\n",
    "        line = lines.split(\" \")\n",
    "        cluster1 = line[0]\n",
    "#         print(cluster1)\n",
    "        initial = int(cluster1.split(\"-\")[0])                #For the range initial value\n",
    "        final = int(cluster1.split(\"-\")[1])                  #For the range final value\n",
    "#         print(initial, final)\n",
    "        cluster2 = line[1]\n",
    "        param = cluster2[0]                             #This is the alphabet that repeats \n",
    "#         print(param)\n",
    "        target = line[2]\n",
    "#         print(target)\n",
    "        check = 0\n",
    "        for letter in target:\n",
    "            if letter == param:\n",
    "                check += 1\n",
    "        if check >= initial and check <= final:\n",
    "            repeat_total += 1\n",
    "            \n",
    "print(repeat_total)"
   ]
  },
  {
   "cell_type": "markdown",
   "id": "integrated-brick",
   "metadata": {},
   "source": [
    "## Task 2"
   ]
  },
  {
   "cell_type": "code",
   "execution_count": 59,
   "id": "apart-aside",
   "metadata": {},
   "outputs": [
    {
     "name": "stdout",
     "output_type": "stream",
     "text": [
      "616\n"
     ]
    }
   ],
   "source": [
    "repeat_total = 0\n",
    "with open(\"C:\\\\Users\\\\npram\\\\Desktop\\\\Github\\\\Advent-code-2020\\\\inputfiles\\\\data2.txt\") as file:\n",
    "    for lines in file:\n",
    "        line = lines.split(\" \")\n",
    "        cluster1 = line[0]\n",
    "        initial = int(cluster1.split(\"-\")[0])                #For the range initial value\n",
    "        final = int(cluster1.split(\"-\")[1])                  #For the range final value\n",
    "        cluster2 = line[1]\n",
    "        param = cluster2[0]                             #This is the alphabet that repeats \n",
    "        target = line[2]\n",
    "        start = target[initial - 1]\n",
    "#         print(\"t\",target, \"i\",start)\n",
    "#         print(start)\n",
    "        end = target[final - 1]\n",
    "#         print(\"t\",target, \"i\",end)\n",
    "#         print(end)\n",
    "        if (param == start) ^ (param == end):\n",
    "            repeat_total += 1\n",
    "print(repeat_total)"
   ]
  },
  {
   "cell_type": "code",
   "execution_count": null,
   "id": "prescribed-visiting",
   "metadata": {},
   "outputs": [],
   "source": []
  }
 ],
 "metadata": {
  "kernelspec": {
   "display_name": "Python 3",
   "language": "python",
   "name": "python3"
  },
  "language_info": {
   "codemirror_mode": {
    "name": "ipython",
    "version": 3
   },
   "file_extension": ".py",
   "mimetype": "text/x-python",
   "name": "python",
   "nbconvert_exporter": "python",
   "pygments_lexer": "ipython3",
   "version": "3.6.10"
  },
  "toc": {
   "base_numbering": 1,
   "nav_menu": {},
   "number_sections": true,
   "sideBar": true,
   "skip_h1_title": false,
   "title_cell": "Table of Contents",
   "title_sidebar": "Contents",
   "toc_cell": false,
   "toc_position": {},
   "toc_section_display": true,
   "toc_window_display": false
  }
 },
 "nbformat": 4,
 "nbformat_minor": 5
}
