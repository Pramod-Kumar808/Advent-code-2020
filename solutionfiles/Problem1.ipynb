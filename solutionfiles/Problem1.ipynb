{
 "cells": [
  {
   "cell_type": "markdown",
   "id": "hundred-pizza",
   "metadata": {},
   "source": [
    "# Parser"
   ]
  },
  {
   "cell_type": "code",
   "execution_count": 1,
   "id": "available-tournament",
   "metadata": {},
   "outputs": [],
   "source": [
    "file = open(\"C:\\\\Users\\\\npram\\\\Desktop\\\\Github\\\\Advent-code-2020\\\\inputfiles\\\\data1.txt\")\n",
    "list1 = []\n",
    "for i in file:\n",
    "    list1.append(int(i.strip(\"\\n\")))             #make sure you converted into integer\n",
    "file.close()"
   ]
  },
  {
   "cell_type": "markdown",
   "id": "criminal-basement",
   "metadata": {},
   "source": [
    "# Strategy"
   ]
  },
  {
   "cell_type": "markdown",
   "id": "bottom-bacon",
   "metadata": {},
   "source": [
    "## Part 1"
   ]
  },
  {
   "cell_type": "code",
   "execution_count": 10,
   "id": "careful-huntington",
   "metadata": {},
   "outputs": [],
   "source": [
    "def Product(list1, target):\n",
    "    for i in range(len(list1)):\n",
    "        for j in range(len(list1)):\n",
    "            if list1[i] + list1[j] == target:\n",
    "                return list1[i] * list1[j]"
   ]
  },
  {
   "cell_type": "code",
   "execution_count": 11,
   "id": "southeast-reducing",
   "metadata": {},
   "outputs": [
    {
     "data": {
      "text/plain": [
       "445536"
      ]
     },
     "execution_count": 11,
     "metadata": {},
     "output_type": "execute_result"
    }
   ],
   "source": [
    "list1 = list1\n",
    "target = 2020\n",
    "Product(list1, target)"
   ]
  },
  {
   "cell_type": "markdown",
   "id": "apparent-rhythm",
   "metadata": {},
   "source": [
    "## Part 2"
   ]
  },
  {
   "cell_type": "code",
   "execution_count": 14,
   "id": "focal-tuner",
   "metadata": {},
   "outputs": [],
   "source": [
    "def Product(list1, target):\n",
    "    for i in range(len(list1)):\n",
    "        for j in range(len(list1)):\n",
    "            for k in range(len(list1)):\n",
    "                if list1[i] + list1[j] + list1[k] == target:\n",
    "                    return list1[i] * list1[j] * list1[k]"
   ]
  },
  {
   "cell_type": "code",
   "execution_count": 15,
   "id": "partial-water",
   "metadata": {},
   "outputs": [
    {
     "data": {
      "text/plain": [
       "138688160"
      ]
     },
     "execution_count": 15,
     "metadata": {},
     "output_type": "execute_result"
    }
   ],
   "source": [
    "list1 = list1\n",
    "target = 2020\n",
    "Product(list1, target)"
   ]
  },
  {
   "cell_type": "code",
   "execution_count": null,
   "id": "outdoor-danger",
   "metadata": {},
   "outputs": [],
   "source": []
  }
 ],
 "metadata": {
  "kernelspec": {
   "display_name": "Python 3",
   "language": "python",
   "name": "python3"
  },
  "language_info": {
   "codemirror_mode": {
    "name": "ipython",
    "version": 3
   },
   "file_extension": ".py",
   "mimetype": "text/x-python",
   "name": "python",
   "nbconvert_exporter": "python",
   "pygments_lexer": "ipython3",
   "version": "3.6.10"
  },
  "toc": {
   "base_numbering": 1,
   "nav_menu": {},
   "number_sections": true,
   "sideBar": true,
   "skip_h1_title": false,
   "title_cell": "Table of Contents",
   "title_sidebar": "Contents",
   "toc_cell": false,
   "toc_position": {},
   "toc_section_display": true,
   "toc_window_display": false
  }
 },
 "nbformat": 4,
 "nbformat_minor": 5
}
