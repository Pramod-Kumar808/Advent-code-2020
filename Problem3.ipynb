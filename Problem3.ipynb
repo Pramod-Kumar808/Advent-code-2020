{
 "cells": [
  {
   "cell_type": "markdown",
   "source": [
    "Take a file of terrain data.  Try to simulate riding down the terrain in a sled...  How many concussions do you get on the way? "
   ],
   "metadata": {}
  },
  {
   "cell_type": "markdown",
   "source": [
    "# Task 1"
   ],
   "metadata": {}
  },
  {
   "cell_type": "code",
   "execution_count": 1,
   "source": [
    "data  = \"Data\\data3.txt\"\r\n",
    "with open(data) as file:\r\n",
    "    line = []\r\n",
    "    for x in file.read().split(\"\\n\")[::1]:\r\n",
    "        line.append(x)\r\n",
    "# print(line)"
   ],
   "outputs": [],
   "metadata": {}
  },
  {
   "cell_type": "code",
   "execution_count": 12,
   "source": [
    "tree = 0\r\n",
    "x = 0\r\n",
    "for i in line:\r\n",
    "    tree = tree + (i[x % len(line[0])] == \"#\")\r\n",
    "    x+= 3"
   ],
   "outputs": [],
   "metadata": {}
  },
  {
   "cell_type": "code",
   "execution_count": 13,
   "source": [
    "print(tree)"
   ],
   "outputs": [
    {
     "output_type": "stream",
     "name": "stdout",
     "text": [
      "191\n"
     ]
    }
   ],
   "metadata": {}
  },
  {
   "cell_type": "markdown",
   "source": [
    "# Test 2"
   ],
   "metadata": {}
  },
  {
   "cell_type": "code",
   "execution_count": 14,
   "source": [
    "right = int(input(\"right: \"))\r\n",
    "down = int(input(\"down: \"))\r\n",
    "\r\n",
    "with open(data) as file:\r\n",
    "    line = [x for x in file.read().split(\"\\n\")[::down]]\r\n",
    "\r\n",
    "tree = 0\r\n",
    "x = 0\r\n",
    "for i in line:\r\n",
    "    tree = tree + (i[x % len(line[0])] == \"#\")\r\n",
    "    x = x + right"
   ],
   "outputs": [],
   "metadata": {}
  },
  {
   "cell_type": "code",
   "execution_count": 48,
   "source": [
    "print(tree)"
   ],
   "outputs": [
    {
     "output_type": "stream",
     "name": "stdout",
     "text": [
      "32\n"
     ]
    }
   ],
   "metadata": {}
  },
  {
   "cell_type": "code",
   "execution_count": 49,
   "source": [
    "result = (60*191*64*63*32)\r\n",
    "result"
   ],
   "outputs": [
    {
     "output_type": "execute_result",
     "data": {
      "text/plain": [
       "1478615040"
      ]
     },
     "metadata": {},
     "execution_count": 49
    }
   ],
   "metadata": {}
  },
  {
   "cell_type": "code",
   "execution_count": null,
   "source": [],
   "outputs": [],
   "metadata": {}
  }
 ],
 "metadata": {
  "kernelspec": {
   "name": "python3",
   "display_name": "Python 3.6.10 64-bit ('tenpy': conda)"
  },
  "language_info": {
   "codemirror_mode": {
    "name": "ipython",
    "version": 3
   },
   "file_extension": ".py",
   "mimetype": "text/x-python",
   "name": "python",
   "nbconvert_exporter": "python",
   "pygments_lexer": "ipython3",
   "version": "3.6.10"
  },
  "toc": {
   "base_numbering": 1,
   "nav_menu": {},
   "number_sections": true,
   "sideBar": true,
   "skip_h1_title": false,
   "title_cell": "Table of Contents",
   "title_sidebar": "Contents",
   "toc_cell": false,
   "toc_position": {},
   "toc_section_display": true,
   "toc_window_display": false
  },
  "interpreter": {
   "hash": "798f5b5431e37c71aaf89733b493b653dbf725e4fef1afdf5d2e121c202eac10"
  }
 },
 "nbformat": 4,
 "nbformat_minor": 5
}