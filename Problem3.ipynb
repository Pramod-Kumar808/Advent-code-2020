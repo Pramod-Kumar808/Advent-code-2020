{
 "cells": [
  {
   "cell_type": "code",
   "execution_count": 8,
   "id": "similar-nicaragua",
   "metadata": {},
   "outputs": [],
   "source": [
    "# Counting the number of tress"
   ]
  },
  {
   "cell_type": "markdown",
   "id": "convertible-justice",
   "metadata": {},
   "source": [
    "# Task 1"
   ]
  },
  {
   "cell_type": "code",
   "execution_count": 33,
   "id": "amended-medicine",
   "metadata": {},
   "outputs": [],
   "source": [
    "data  = \"C:\\\\Users\\\\npram\\\\Desktop\\\\Github\\\\Advent-code-2020\\\\inputfiles\\\\data3.txt\"\n",
    "with open(data) as file:\n",
    "    line = []\n",
    "    for x in file.read().split(\"\\n\")[::1]:\n",
    "        line.append(x)\n",
    "# print(line)"
   ]
  },
  {
   "cell_type": "code",
   "execution_count": 34,
   "id": "crucial-granny",
   "metadata": {},
   "outputs": [],
   "source": [
    "tree = 0\n",
    "x = 0\n",
    "for i in line:\n",
    "    tree = tree + (i[x % len(line[0])] == \"#\")\n",
    "    x = x + 3"
   ]
  },
  {
   "cell_type": "code",
   "execution_count": 35,
   "id": "severe-teacher",
   "metadata": {},
   "outputs": [
    {
     "name": "stdout",
     "output_type": "stream",
     "text": [
      "191\n"
     ]
    }
   ],
   "source": [
    "print(tree)"
   ]
  },
  {
   "cell_type": "markdown",
   "id": "elder-locator",
   "metadata": {},
   "source": [
    "# Test 2"
   ]
  },
  {
   "cell_type": "code",
   "execution_count": 47,
   "id": "located-timothy",
   "metadata": {},
   "outputs": [
    {
     "name": "stdout",
     "output_type": "stream",
     "text": [
      "right: 1\n",
      "down: 2\n"
     ]
    }
   ],
   "source": [
    "right = int(input(\"right: \"))\n",
    "down = int(input(\"down: \"))\n",
    "\n",
    "with open(data) as file:\n",
    "    line = [x for x in file.read().split(\"\\n\")[::down]]\n",
    "\n",
    "tree = 0\n",
    "x = 0\n",
    "for i in line:\n",
    "    tree = tree + (i[x % len(line[0])] == \"#\")\n",
    "    x = x + right"
   ]
  },
  {
   "cell_type": "code",
   "execution_count": 48,
   "id": "mechanical-resort",
   "metadata": {},
   "outputs": [
    {
     "name": "stdout",
     "output_type": "stream",
     "text": [
      "32\n"
     ]
    }
   ],
   "source": [
    "print(tree)"
   ]
  },
  {
   "cell_type": "code",
   "execution_count": 49,
   "id": "arranged-importance",
   "metadata": {},
   "outputs": [
    {
     "data": {
      "text/plain": [
       "1478615040"
      ]
     },
     "execution_count": 49,
     "metadata": {},
     "output_type": "execute_result"
    }
   ],
   "source": [
    "result = (60*191*64*63*32)\n",
    "result"
   ]
  },
  {
   "cell_type": "code",
   "execution_count": null,
   "id": "opposite-truck",
   "metadata": {},
   "outputs": [],
   "source": []
  }
 ],
 "metadata": {
  "kernelspec": {
   "display_name": "Python 3",
   "language": "python",
   "name": "python3"
  },
  "language_info": {
   "codemirror_mode": {
    "name": "ipython",
    "version": 3
   },
   "file_extension": ".py",
   "mimetype": "text/x-python",
   "name": "python",
   "nbconvert_exporter": "python",
   "pygments_lexer": "ipython3",
   "version": "3.6.10"
  },
  "toc": {
   "base_numbering": 1,
   "nav_menu": {},
   "number_sections": true,
   "sideBar": true,
   "skip_h1_title": false,
   "title_cell": "Table of Contents",
   "title_sidebar": "Contents",
   "toc_cell": false,
   "toc_position": {},
   "toc_section_display": true,
   "toc_window_display": false
  }
 },
 "nbformat": 4,
 "nbformat_minor": 5
}
