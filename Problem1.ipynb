{
 "cells": [
  {
   "cell_type": "markdown",
   "source": [
    "# Parser"
   ],
   "metadata": {}
  },
  {
   "cell_type": "code",
   "execution_count": 2,
   "source": [
    "cd .."
   ],
   "outputs": [
    {
     "output_type": "stream",
     "name": "stdout",
     "text": [
      "c:\\Users\\npram\\Desktop\\Github\\Advent-code-2020\n"
     ]
    }
   ],
   "metadata": {}
  },
  {
   "cell_type": "code",
   "execution_count": 3,
   "source": [
    "file = open(\"inputfiles/data1.txt\")\r\n",
    "list1 = []\r\n",
    "for i in file:\r\n",
    "    list1.append(int(i.strip(\"\\n\")))             #make sure you converted into integer\r\n",
    "file.close()"
   ],
   "outputs": [],
   "metadata": {}
  },
  {
   "cell_type": "markdown",
   "source": [
    "# Strategy"
   ],
   "metadata": {}
  },
  {
   "cell_type": "markdown",
   "source": [
    "## Part 1"
   ],
   "metadata": {}
  },
  {
   "cell_type": "code",
   "execution_count": 11,
   "source": [
    "def Product(list1, target):\r\n",
    "    for i in range(len(list1)):\r\n",
    "        for j in range(len(list1)):\r\n",
    "            if list1[i] + list1[j] == target:\r\n",
    "                print(list1[i], list1[j], target)\r\n",
    "                return list1[i] * list1[j]"
   ],
   "outputs": [],
   "metadata": {}
  },
  {
   "cell_type": "code",
   "execution_count": 12,
   "source": [
    "list1 = list1\r\n",
    "target = 2020\r\n",
    "Product(list1, target)"
   ],
   "outputs": [
    {
     "output_type": "stream",
     "name": "stdout",
     "text": [
      "1768 252 2020\n"
     ]
    },
    {
     "output_type": "execute_result",
     "data": {
      "text/plain": [
       "445536"
      ]
     },
     "metadata": {},
     "execution_count": 12
    }
   ],
   "metadata": {}
  },
  {
   "cell_type": "markdown",
   "source": [
    "## Part 2"
   ],
   "metadata": {}
  },
  {
   "cell_type": "code",
   "execution_count": 21,
   "source": [
    "def Product(list1, target):\r\n",
    "    for i in range(len(list1)):\r\n",
    "        for j in range(len(list1)):\r\n",
    "            for k in range(len(list1)):\r\n",
    "                # for l in range(len(list1)):\r\n",
    "                if list1[i] + list1[j] + list1[k] == target:\r\n",
    "                    print(list1[i], list1[j], list1[k])\r\n",
    "                    return list1[i] * list1[j] * list1[k]"
   ],
   "outputs": [],
   "metadata": {}
  },
  {
   "cell_type": "code",
   "execution_count": 22,
   "source": [
    "list1 = list1\r\n",
    "target = 2020\r\n",
    "Product(list1, target)"
   ],
   "outputs": [
    {
     "output_type": "stream",
     "name": "stdout",
     "text": [
      "736 169 1115\n"
     ]
    },
    {
     "output_type": "execute_result",
     "data": {
      "text/plain": [
       "138688160"
      ]
     },
     "metadata": {},
     "execution_count": 22
    }
   ],
   "metadata": {}
  },
  {
   "cell_type": "code",
   "execution_count": null,
   "source": [],
   "outputs": [],
   "metadata": {}
  }
 ],
 "metadata": {
  "kernelspec": {
   "name": "python3",
   "display_name": "Python 3.6.10 64-bit ('tenpy': conda)"
  },
  "language_info": {
   "codemirror_mode": {
    "name": "ipython",
    "version": 3
   },
   "file_extension": ".py",
   "mimetype": "text/x-python",
   "name": "python",
   "nbconvert_exporter": "python",
   "pygments_lexer": "ipython3",
   "version": "3.6.10"
  },
  "toc": {
   "base_numbering": 1,
   "nav_menu": {},
   "number_sections": true,
   "sideBar": true,
   "skip_h1_title": false,
   "title_cell": "Table of Contents",
   "title_sidebar": "Contents",
   "toc_cell": false,
   "toc_position": {},
   "toc_section_display": true,
   "toc_window_display": false
  },
  "interpreter": {
   "hash": "798f5b5431e37c71aaf89733b493b653dbf725e4fef1afdf5d2e121c202eac10"
  }
 },
 "nbformat": 4,
 "nbformat_minor": 5
}